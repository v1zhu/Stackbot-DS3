{
 "cells": [
  {
   "cell_type": "markdown",
   "id": "58aa1968",
   "metadata": {},
   "source": [
    "## Data Exploration\n",
    "This notebook will allow us to explore the data found in the Kaggle dataset"
   ]
  },
  {
   "cell_type": "code",
   "execution_count": 2,
   "id": "4177c27c",
   "metadata": {},
   "outputs": [],
   "source": [
    "# imports\n",
    "import pandas as pd\n",
    "import numpy as np\n",
    "import matplotlib.pyplot as plt\n",
    "import os\n",
    "from pathlib import Path"
   ]
  },
  {
   "cell_type": "markdown",
   "id": "443f22c7",
   "metadata": {},
   "source": [
    "**Kaggle 45k dataset**  \n",
    "https://www.kaggle.com/datasets/imoore/60k-stack-overflow-questions-with-quality-rate  "
   ]
  },
  {
   "cell_type": "code",
   "execution_count": 3,
   "id": "31c03383",
   "metadata": {},
   "outputs": [
    {
     "data": {
      "text/plain": [
       "(45000, 6)"
      ]
     },
     "execution_count": 3,
     "metadata": {},
     "output_type": "execute_result"
    }
   ],
   "source": [
    "df = pd.read_csv('datasets/kaggle-stackoverflow-45k/train.csv')\n",
    "df.shape"
   ]
  },
  {
   "cell_type": "code",
   "execution_count": 72,
   "id": "3088ff96",
   "metadata": {},
   "outputs": [
    {
     "data": {
      "text/html": [
       "<div>\n",
       "<style scoped>\n",
       "    .dataframe tbody tr th:only-of-type {\n",
       "        vertical-align: middle;\n",
       "    }\n",
       "\n",
       "    .dataframe tbody tr th {\n",
       "        vertical-align: top;\n",
       "    }\n",
       "\n",
       "    .dataframe thead th {\n",
       "        text-align: right;\n",
       "    }\n",
       "</style>\n",
       "<table border=\"1\" class=\"dataframe\">\n",
       "  <thead>\n",
       "    <tr style=\"text-align: right;\">\n",
       "      <th></th>\n",
       "      <th>Id</th>\n",
       "      <th>Title</th>\n",
       "      <th>Body</th>\n",
       "      <th>Tags</th>\n",
       "      <th>CreationDate</th>\n",
       "      <th>Y</th>\n",
       "    </tr>\n",
       "  </thead>\n",
       "  <tbody>\n",
       "    <tr>\n",
       "      <th>0</th>\n",
       "      <td>34552656</td>\n",
       "      <td>Java: Repeat Task Every Random Seconds</td>\n",
       "      <td>&lt;p&gt;I'm already familiar with repeating tasks e...</td>\n",
       "      <td>&lt;java&gt;&lt;repeat&gt;</td>\n",
       "      <td>2016-01-01 00:21:59</td>\n",
       "      <td>LQ_CLOSE</td>\n",
       "    </tr>\n",
       "    <tr>\n",
       "      <th>1</th>\n",
       "      <td>34553034</td>\n",
       "      <td>Why are Java Optionals immutable?</td>\n",
       "      <td>&lt;p&gt;I'd like to understand why Java 8 Optionals...</td>\n",
       "      <td>&lt;java&gt;&lt;optional&gt;</td>\n",
       "      <td>2016-01-01 02:03:20</td>\n",
       "      <td>HQ</td>\n",
       "    </tr>\n",
       "    <tr>\n",
       "      <th>2</th>\n",
       "      <td>34553174</td>\n",
       "      <td>Text Overlay Image with Darkened Opacity React...</td>\n",
       "      <td>&lt;p&gt;I am attempting to overlay a title over an ...</td>\n",
       "      <td>&lt;javascript&gt;&lt;image&gt;&lt;overlay&gt;&lt;react-native&gt;&lt;opa...</td>\n",
       "      <td>2016-01-01 02:48:24</td>\n",
       "      <td>HQ</td>\n",
       "    </tr>\n",
       "  </tbody>\n",
       "</table>\n",
       "</div>"
      ],
      "text/plain": [
       "         Id                                              Title  \\\n",
       "0  34552656             Java: Repeat Task Every Random Seconds   \n",
       "1  34553034                  Why are Java Optionals immutable?   \n",
       "2  34553174  Text Overlay Image with Darkened Opacity React...   \n",
       "\n",
       "                                                Body  \\\n",
       "0  <p>I'm already familiar with repeating tasks e...   \n",
       "1  <p>I'd like to understand why Java 8 Optionals...   \n",
       "2  <p>I am attempting to overlay a title over an ...   \n",
       "\n",
       "                                                Tags         CreationDate  \\\n",
       "0                                     <java><repeat>  2016-01-01 00:21:59   \n",
       "1                                   <java><optional>  2016-01-01 02:03:20   \n",
       "2  <javascript><image><overlay><react-native><opa...  2016-01-01 02:48:24   \n",
       "\n",
       "          Y  \n",
       "0  LQ_CLOSE  \n",
       "1        HQ  \n",
       "2        HQ  "
      ]
     },
     "execution_count": 72,
     "metadata": {},
     "output_type": "execute_result"
    }
   ],
   "source": [
    "df.head(3)"
   ]
  },
  {
   "cell_type": "code",
   "execution_count": 73,
   "id": "0f4628df",
   "metadata": {},
   "outputs": [
    {
     "data": {
      "text/html": [
       "<div>\n",
       "<style scoped>\n",
       "    .dataframe tbody tr th:only-of-type {\n",
       "        vertical-align: middle;\n",
       "    }\n",
       "\n",
       "    .dataframe tbody tr th {\n",
       "        vertical-align: top;\n",
       "    }\n",
       "\n",
       "    .dataframe thead th {\n",
       "        text-align: right;\n",
       "    }\n",
       "</style>\n",
       "<table border=\"1\" class=\"dataframe\">\n",
       "  <thead>\n",
       "    <tr style=\"text-align: right;\">\n",
       "      <th></th>\n",
       "      <th>Id</th>\n",
       "      <th>Title</th>\n",
       "      <th>Body</th>\n",
       "      <th>Tags</th>\n",
       "      <th>CreationDate</th>\n",
       "      <th>Y</th>\n",
       "    </tr>\n",
       "  </thead>\n",
       "  <tbody>\n",
       "    <tr>\n",
       "      <th>0</th>\n",
       "      <td>34552656</td>\n",
       "      <td>Java: Repeat Task Every Random Seconds</td>\n",
       "      <td>&lt;p&gt;I'm already familiar with repeating tasks e...</td>\n",
       "      <td>&lt;java&gt;&lt;repeat&gt;</td>\n",
       "      <td>2016-01-01 00:21:59</td>\n",
       "      <td>LQ_CLOSE</td>\n",
       "    </tr>\n",
       "    <tr>\n",
       "      <th>1</th>\n",
       "      <td>34553034</td>\n",
       "      <td>Why are Java Optionals immutable?</td>\n",
       "      <td>&lt;p&gt;I'd like to understand why Java 8 Optionals...</td>\n",
       "      <td>&lt;java&gt;&lt;optional&gt;</td>\n",
       "      <td>2016-01-01 02:03:20</td>\n",
       "      <td>HQ</td>\n",
       "    </tr>\n",
       "    <tr>\n",
       "      <th>2</th>\n",
       "      <td>34553174</td>\n",
       "      <td>Text Overlay Image with Darkened Opacity React...</td>\n",
       "      <td>&lt;p&gt;I am attempting to overlay a title over an ...</td>\n",
       "      <td>&lt;javascript&gt;&lt;image&gt;&lt;overlay&gt;&lt;react-native&gt;&lt;opa...</td>\n",
       "      <td>2016-01-01 02:48:24</td>\n",
       "      <td>HQ</td>\n",
       "    </tr>\n",
       "  </tbody>\n",
       "</table>\n",
       "</div>"
      ],
      "text/plain": [
       "         Id                                              Title  \\\n",
       "0  34552656             Java: Repeat Task Every Random Seconds   \n",
       "1  34553034                  Why are Java Optionals immutable?   \n",
       "2  34553174  Text Overlay Image with Darkened Opacity React...   \n",
       "\n",
       "                                                Body  \\\n",
       "0  <p>I'm already familiar with repeating tasks e...   \n",
       "1  <p>I'd like to understand why Java 8 Optionals...   \n",
       "2  <p>I am attempting to overlay a title over an ...   \n",
       "\n",
       "                                                Tags         CreationDate  \\\n",
       "0                                     <java><repeat>  2016-01-01 00:21:59   \n",
       "1                                   <java><optional>  2016-01-01 02:03:20   \n",
       "2  <javascript><image><overlay><react-native><opa...  2016-01-01 02:48:24   \n",
       "\n",
       "          Y  \n",
       "0  LQ_CLOSE  \n",
       "1        HQ  \n",
       "2        HQ  "
      ]
     },
     "execution_count": 73,
     "metadata": {},
     "output_type": "execute_result"
    }
   ],
   "source": [
    "subset = df.iloc[:100]\n",
    "subset.head(3)"
   ]
  },
  {
   "cell_type": "code",
   "execution_count": 6,
   "id": "4009dac7",
   "metadata": {},
   "outputs": [
    {
     "name": "stdout",
     "output_type": "stream",
     "text": [
      "<p>I'm already familiar with repeating tasks every n seconds by using Java.util.Timer and Java.util.TimerTask. But lets say I want to print \"Hello World\" to the console every random seconds from 1-5. Unfortunately I'm in a bit of a rush and don't have any code to show so far. Any help would be apriciated.  </p>\n",
      "\n"
     ]
    }
   ],
   "source": [
    "print(subset.iloc[0].Body)"
   ]
  },
  {
   "cell_type": "markdown",
   "id": "ec44152b",
   "metadata": {},
   "source": [
    "In the first 100 data points, all tags can be extracted cleanly (i.e. no extra < or > tags)"
   ]
  },
  {
   "cell_type": "code",
   "execution_count": 7,
   "id": "2a334721",
   "metadata": {},
   "outputs": [
    {
     "data": {
      "text/plain": [
       "False"
      ]
     },
     "execution_count": 7,
     "metadata": {},
     "output_type": "execute_result"
    }
   ],
   "source": [
    "tagTest = subset.copy()\n",
    "tagTest = tagTest.assign(Tags = tagTest[\"Tags\"].str.findall(r\"<(.*?)>\"))\n",
    "\">\" in \"\".join(tagTest[\"Tags\"].sum()) or \"<\" in \"\".join(tagTest[\"Tags\"].sum())"
   ]
  },
  {
   "cell_type": "code",
   "execution_count": 74,
   "id": "c08c931a",
   "metadata": {},
   "outputs": [
    {
     "data": {
      "text/html": [
       "<div>\n",
       "<style scoped>\n",
       "    .dataframe tbody tr th:only-of-type {\n",
       "        vertical-align: middle;\n",
       "    }\n",
       "\n",
       "    .dataframe tbody tr th {\n",
       "        vertical-align: top;\n",
       "    }\n",
       "\n",
       "    .dataframe thead th {\n",
       "        text-align: right;\n",
       "    }\n",
       "</style>\n",
       "<table border=\"1\" class=\"dataframe\">\n",
       "  <thead>\n",
       "    <tr style=\"text-align: right;\">\n",
       "      <th></th>\n",
       "      <th>Id</th>\n",
       "      <th>Title</th>\n",
       "      <th>Body</th>\n",
       "      <th>Tags</th>\n",
       "      <th>CreationDate</th>\n",
       "      <th>Y</th>\n",
       "    </tr>\n",
       "  </thead>\n",
       "  <tbody>\n",
       "    <tr>\n",
       "      <th>0</th>\n",
       "      <td>34552656</td>\n",
       "      <td>Java: Repeat Task Every Random Seconds</td>\n",
       "      <td>&lt;p&gt;I'm already familiar with repeating tasks e...</td>\n",
       "      <td>[java, repeat]</td>\n",
       "      <td>2016-01-01 00:21:59</td>\n",
       "      <td>LQ_CLOSE</td>\n",
       "    </tr>\n",
       "    <tr>\n",
       "      <th>1</th>\n",
       "      <td>34553034</td>\n",
       "      <td>Why are Java Optionals immutable?</td>\n",
       "      <td>&lt;p&gt;I'd like to understand why Java 8 Optionals...</td>\n",
       "      <td>[java, optional]</td>\n",
       "      <td>2016-01-01 02:03:20</td>\n",
       "      <td>HQ</td>\n",
       "    </tr>\n",
       "    <tr>\n",
       "      <th>2</th>\n",
       "      <td>34553174</td>\n",
       "      <td>Text Overlay Image with Darkened Opacity React...</td>\n",
       "      <td>&lt;p&gt;I am attempting to overlay a title over an ...</td>\n",
       "      <td>[javascript, image, overlay, react-native, opa...</td>\n",
       "      <td>2016-01-01 02:48:24</td>\n",
       "      <td>HQ</td>\n",
       "    </tr>\n",
       "  </tbody>\n",
       "</table>\n",
       "</div>"
      ],
      "text/plain": [
       "         Id                                              Title  \\\n",
       "0  34552656             Java: Repeat Task Every Random Seconds   \n",
       "1  34553034                  Why are Java Optionals immutable?   \n",
       "2  34553174  Text Overlay Image with Darkened Opacity React...   \n",
       "\n",
       "                                                Body  \\\n",
       "0  <p>I'm already familiar with repeating tasks e...   \n",
       "1  <p>I'd like to understand why Java 8 Optionals...   \n",
       "2  <p>I am attempting to overlay a title over an ...   \n",
       "\n",
       "                                                Tags         CreationDate  \\\n",
       "0                                     [java, repeat]  2016-01-01 00:21:59   \n",
       "1                                   [java, optional]  2016-01-01 02:03:20   \n",
       "2  [javascript, image, overlay, react-native, opa...  2016-01-01 02:48:24   \n",
       "\n",
       "          Y  \n",
       "0  LQ_CLOSE  \n",
       "1        HQ  \n",
       "2        HQ  "
      ]
     },
     "execution_count": 74,
     "metadata": {},
     "output_type": "execute_result"
    }
   ],
   "source": [
    "tagTest.head(3)"
   ]
  },
  {
   "cell_type": "markdown",
   "id": "a85dcff0",
   "metadata": {},
   "source": [
    "Associated Links may be found in anchor tags\n",
    "Different languages may be found in body tags (e.g. stdio.h for C)\n",
    "This query may be picking up code references that are not necessarily HTML (e.g. <Attraction*>, <?>)"
   ]
  },
  {
   "cell_type": "code",
   "execution_count": 9,
   "id": "a4ea0265",
   "metadata": {},
   "outputs": [
    {
     "name": "stdout",
     "output_type": "stream",
     "text": [
      "<code>\n",
      "<img src=\"https://i.stack.imgur.com/Me9kV.png\" alt=\"enter image description here\">\n",
      "<!-- News Slider -->\n",
      "<a href=\"http://talesofcpp.fusionfenix.com/post-23/interlude\" rel=\"noreferrer\">\n",
      "<em>\n"
     ]
    }
   ],
   "source": [
    "bodyTest = subset.copy()\n",
    "t = set(bodyTest[\"Body\"].str.findall(r\"<[^/].*?>\").sum())\n",
    "for _ in list(t)[:5]:\n",
    "    print(_)"
   ]
  },
  {
   "cell_type": "markdown",
   "id": "3e983d75",
   "metadata": {},
   "source": [
    "Regex will work if there isn't any nesting and the html tag has a separate closing tag.  \n",
    "For nesting the function can be recursively called until there is no nesting.  \n",
    "I am considering ignoring images as we will need to deal with image processessing for (presumably) many file formats."
   ]
  },
  {
   "cell_type": "code",
   "execution_count": 10,
   "id": "3cc33451",
   "metadata": {},
   "outputs": [
    {
     "data": {
      "text/plain": [
       "[('p',\n",
       "  'I am attempting to overlay a title over an image - with the image darkened with a lower opacity. However, the opacity effect is changing the overlaying text as well - making it dim. Any fix to this? Here is what is looks like:',\n",
       "  '/p'),\n",
       " ('p',\n",
       "  '<a href=\"https://i.stack.imgur.com/1HzD7.png\" rel=\"noreferrer\"><img src=\"https://i.stack.imgur.com/1HzD7.png\" alt=\"enter image description here\"></a>',\n",
       "  '/p'),\n",
       " ('p',\n",
       "  'And here is my code for the custom component (article preview - which the above image is a row of article preview components): ',\n",
       "  '/p')]"
      ]
     },
     "execution_count": 10,
     "metadata": {},
     "output_type": "execute_result"
    }
   ],
   "source": [
    "bodyTest[\"Body\"].str.findall(r\"<(.*?)>(.*?)<(/\\1)>\").iloc[2]"
   ]
  },
  {
   "cell_type": "markdown",
   "id": "82d67c65",
   "metadata": {},
   "source": [
    "**Cornell Dataset**  \n",
    "https://www.cs.cornell.edu/~arb/data/stackoverflow-answers/  \n",
    "Based on the text file contents, the graph approach doesn't have any actual questions/answers immediately available.  \n",
    "The Cornell dataset might be useful for similarity (although the inference strength is weak with only tags available)"
   ]
  },
  {
   "cell_type": "markdown",
   "id": "01d2aeee",
   "metadata": {},
   "source": [
    "**Kaggle 10% Dataset**  \n",
    "https://www.kaggle.com/datasets/stackoverflow/stacksample?resource=download  \n",
    "Need to load using \"latin-1\" encoding since UTF-8 errors\n"
   ]
  },
  {
   "cell_type": "code",
   "execution_count": 11,
   "id": "439e0d4e",
   "metadata": {},
   "outputs": [],
   "source": [
    "b10 = Path(\"datasets\") / \"kaggle-stackoverflow-10-percent\""
   ]
  },
  {
   "cell_type": "code",
   "execution_count": 12,
   "id": "160f9acd",
   "metadata": {},
   "outputs": [
    {
     "data": {
      "text/html": [
       "<div>\n",
       "<style scoped>\n",
       "    .dataframe tbody tr th:only-of-type {\n",
       "        vertical-align: middle;\n",
       "    }\n",
       "\n",
       "    .dataframe tbody tr th {\n",
       "        vertical-align: top;\n",
       "    }\n",
       "\n",
       "    .dataframe thead th {\n",
       "        text-align: right;\n",
       "    }\n",
       "</style>\n",
       "<table border=\"1\" class=\"dataframe\">\n",
       "  <thead>\n",
       "    <tr style=\"text-align: right;\">\n",
       "      <th></th>\n",
       "      <th>Id</th>\n",
       "      <th>OwnerUserId</th>\n",
       "      <th>CreationDate</th>\n",
       "      <th>ClosedDate</th>\n",
       "      <th>Score</th>\n",
       "      <th>Title</th>\n",
       "      <th>Body</th>\n",
       "    </tr>\n",
       "  </thead>\n",
       "  <tbody>\n",
       "    <tr>\n",
       "      <th>0</th>\n",
       "      <td>80</td>\n",
       "      <td>26.0</td>\n",
       "      <td>2008-08-01T13:57:07Z</td>\n",
       "      <td>NaN</td>\n",
       "      <td>26</td>\n",
       "      <td>SQLStatement.execute() - multiple queries in o...</td>\n",
       "      <td>&lt;p&gt;I've written a database generation script i...</td>\n",
       "    </tr>\n",
       "    <tr>\n",
       "      <th>1</th>\n",
       "      <td>90</td>\n",
       "      <td>58.0</td>\n",
       "      <td>2008-08-01T14:41:24Z</td>\n",
       "      <td>2012-12-26T03:45:49Z</td>\n",
       "      <td>144</td>\n",
       "      <td>Good branching and merging tutorials for Torto...</td>\n",
       "      <td>&lt;p&gt;Are there any really good tutorials explain...</td>\n",
       "    </tr>\n",
       "    <tr>\n",
       "      <th>2</th>\n",
       "      <td>120</td>\n",
       "      <td>83.0</td>\n",
       "      <td>2008-08-01T15:50:08Z</td>\n",
       "      <td>NaN</td>\n",
       "      <td>21</td>\n",
       "      <td>ASP.NET Site Maps</td>\n",
       "      <td>&lt;p&gt;Has anyone got experience creating &lt;strong&gt;...</td>\n",
       "    </tr>\n",
       "  </tbody>\n",
       "</table>\n",
       "</div>"
      ],
      "text/plain": [
       "    Id  OwnerUserId          CreationDate            ClosedDate  Score  \\\n",
       "0   80         26.0  2008-08-01T13:57:07Z                   NaN     26   \n",
       "1   90         58.0  2008-08-01T14:41:24Z  2012-12-26T03:45:49Z    144   \n",
       "2  120         83.0  2008-08-01T15:50:08Z                   NaN     21   \n",
       "\n",
       "                                               Title  \\\n",
       "0  SQLStatement.execute() - multiple queries in o...   \n",
       "1  Good branching and merging tutorials for Torto...   \n",
       "2                                  ASP.NET Site Maps   \n",
       "\n",
       "                                                Body  \n",
       "0  <p>I've written a database generation script i...  \n",
       "1  <p>Are there any really good tutorials explain...  \n",
       "2  <p>Has anyone got experience creating <strong>...  "
      ]
     },
     "execution_count": 12,
     "metadata": {},
     "output_type": "execute_result"
    }
   ],
   "source": [
    "ten_percent_questions = pd.read_csv(b10 / \"Questions.csv\", encoding=\"latin-1\")\n",
    "ten_percent_questions.head(3)"
   ]
  },
  {
   "cell_type": "code",
   "execution_count": 13,
   "id": "dc13ec39",
   "metadata": {},
   "outputs": [
    {
     "data": {
      "text/html": [
       "<div>\n",
       "<style scoped>\n",
       "    .dataframe tbody tr th:only-of-type {\n",
       "        vertical-align: middle;\n",
       "    }\n",
       "\n",
       "    .dataframe tbody tr th {\n",
       "        vertical-align: top;\n",
       "    }\n",
       "\n",
       "    .dataframe thead th {\n",
       "        text-align: right;\n",
       "    }\n",
       "</style>\n",
       "<table border=\"1\" class=\"dataframe\">\n",
       "  <thead>\n",
       "    <tr style=\"text-align: right;\">\n",
       "      <th></th>\n",
       "      <th>Id</th>\n",
       "      <th>OwnerUserId</th>\n",
       "      <th>CreationDate</th>\n",
       "      <th>ParentId</th>\n",
       "      <th>Score</th>\n",
       "      <th>Body</th>\n",
       "    </tr>\n",
       "  </thead>\n",
       "  <tbody>\n",
       "    <tr>\n",
       "      <th>0</th>\n",
       "      <td>92</td>\n",
       "      <td>61.0</td>\n",
       "      <td>2008-08-01T14:45:37Z</td>\n",
       "      <td>90</td>\n",
       "      <td>13</td>\n",
       "      <td>&lt;p&gt;&lt;a href=\"http://svnbook.red-bean.com/\"&gt;Vers...</td>\n",
       "    </tr>\n",
       "    <tr>\n",
       "      <th>1</th>\n",
       "      <td>124</td>\n",
       "      <td>26.0</td>\n",
       "      <td>2008-08-01T16:09:47Z</td>\n",
       "      <td>80</td>\n",
       "      <td>12</td>\n",
       "      <td>&lt;p&gt;I wound up using this. It is a kind of a ha...</td>\n",
       "    </tr>\n",
       "    <tr>\n",
       "      <th>2</th>\n",
       "      <td>199</td>\n",
       "      <td>50.0</td>\n",
       "      <td>2008-08-01T19:36:46Z</td>\n",
       "      <td>180</td>\n",
       "      <td>1</td>\n",
       "      <td>&lt;p&gt;I've read somewhere the human eye can't dis...</td>\n",
       "    </tr>\n",
       "  </tbody>\n",
       "</table>\n",
       "</div>"
      ],
      "text/plain": [
       "    Id  OwnerUserId          CreationDate  ParentId  Score  \\\n",
       "0   92         61.0  2008-08-01T14:45:37Z        90     13   \n",
       "1  124         26.0  2008-08-01T16:09:47Z        80     12   \n",
       "2  199         50.0  2008-08-01T19:36:46Z       180      1   \n",
       "\n",
       "                                                Body  \n",
       "0  <p><a href=\"http://svnbook.red-bean.com/\">Vers...  \n",
       "1  <p>I wound up using this. It is a kind of a ha...  \n",
       "2  <p>I've read somewhere the human eye can't dis...  "
      ]
     },
     "execution_count": 13,
     "metadata": {},
     "output_type": "execute_result"
    }
   ],
   "source": [
    "ten_percent_answers = pd.read_csv(b10 / \"Answers.csv\", encoding=\"latin-1\")\n",
    "ten_percent_answers.head(3)"
   ]
  },
  {
   "cell_type": "code",
   "execution_count": 14,
   "id": "2d99742a",
   "metadata": {},
   "outputs": [
    {
     "data": {
      "text/html": [
       "<div>\n",
       "<style scoped>\n",
       "    .dataframe tbody tr th:only-of-type {\n",
       "        vertical-align: middle;\n",
       "    }\n",
       "\n",
       "    .dataframe tbody tr th {\n",
       "        vertical-align: top;\n",
       "    }\n",
       "\n",
       "    .dataframe thead th {\n",
       "        text-align: right;\n",
       "    }\n",
       "</style>\n",
       "<table border=\"1\" class=\"dataframe\">\n",
       "  <thead>\n",
       "    <tr style=\"text-align: right;\">\n",
       "      <th></th>\n",
       "      <th>Id</th>\n",
       "      <th>Tag</th>\n",
       "    </tr>\n",
       "  </thead>\n",
       "  <tbody>\n",
       "    <tr>\n",
       "      <th>0</th>\n",
       "      <td>80</td>\n",
       "      <td>flex</td>\n",
       "    </tr>\n",
       "    <tr>\n",
       "      <th>1</th>\n",
       "      <td>80</td>\n",
       "      <td>actionscript-3</td>\n",
       "    </tr>\n",
       "    <tr>\n",
       "      <th>2</th>\n",
       "      <td>80</td>\n",
       "      <td>air</td>\n",
       "    </tr>\n",
       "  </tbody>\n",
       "</table>\n",
       "</div>"
      ],
      "text/plain": [
       "   Id             Tag\n",
       "0  80            flex\n",
       "1  80  actionscript-3\n",
       "2  80             air"
      ]
     },
     "execution_count": 14,
     "metadata": {},
     "output_type": "execute_result"
    }
   ],
   "source": [
    "ten_percent_tags = pd.read_csv(b10 / \"Tags.csv\", encoding=\"latin-1\")\n",
    "ten_percent_tags.head(3)"
   ]
  },
  {
   "cell_type": "code",
   "execution_count": 83,
   "id": "5f1c49c0",
   "metadata": {},
   "outputs": [
    {
     "data": {
      "text/html": [
       "<div>\n",
       "<style scoped>\n",
       "    .dataframe tbody tr th:only-of-type {\n",
       "        vertical-align: middle;\n",
       "    }\n",
       "\n",
       "    .dataframe tbody tr th {\n",
       "        vertical-align: top;\n",
       "    }\n",
       "\n",
       "    .dataframe thead th {\n",
       "        text-align: right;\n",
       "    }\n",
       "</style>\n",
       "<table border=\"1\" class=\"dataframe\">\n",
       "  <thead>\n",
       "    <tr style=\"text-align: right;\">\n",
       "      <th></th>\n",
       "      <th>Tag</th>\n",
       "    </tr>\n",
       "    <tr>\n",
       "      <th>Id</th>\n",
       "      <th></th>\n",
       "    </tr>\n",
       "  </thead>\n",
       "  <tbody>\n",
       "    <tr>\n",
       "      <th>80</th>\n",
       "      <td>[flex, actionscript-3, air]</td>\n",
       "    </tr>\n",
       "    <tr>\n",
       "      <th>90</th>\n",
       "      <td>[svn, tortoisesvn, branch, branching-and-merging]</td>\n",
       "    </tr>\n",
       "    <tr>\n",
       "      <th>120</th>\n",
       "      <td>[sql, asp.net, sitemap]</td>\n",
       "    </tr>\n",
       "  </tbody>\n",
       "</table>\n",
       "</div>"
      ],
      "text/plain": [
       "                                                   Tag\n",
       "Id                                                    \n",
       "80                         [flex, actionscript-3, air]\n",
       "90   [svn, tortoisesvn, branch, branching-and-merging]\n",
       "120                            [sql, asp.net, sitemap]"
      ]
     },
     "execution_count": 83,
     "metadata": {},
     "output_type": "execute_result"
    }
   ],
   "source": [
    "tpt = ten_percent_tags.iloc[:100]\n",
    "tpt = tpt.groupby(\"Id\")[\"Tag\"].apply(list).to_frame()\n",
    "tpt.head(3)"
   ]
  },
  {
   "cell_type": "code",
   "execution_count": 66,
   "id": "305fe35c",
   "metadata": {},
   "outputs": [],
   "source": [
    "tpq = ten_percent_questions.iloc[:1000]\n",
    "tpa = ten_percent_answers.iloc[:1000]\n",
    "tpt = ten_percent_tags.iloc[:1000]"
   ]
  },
  {
   "cell_type": "code",
   "execution_count": 71,
   "id": "5d5975f2",
   "metadata": {},
   "outputs": [
    {
     "data": {
      "text/html": [
       "<div>\n",
       "<style scoped>\n",
       "    .dataframe tbody tr th:only-of-type {\n",
       "        vertical-align: middle;\n",
       "    }\n",
       "\n",
       "    .dataframe tbody tr th {\n",
       "        vertical-align: top;\n",
       "    }\n",
       "\n",
       "    .dataframe thead th {\n",
       "        text-align: right;\n",
       "    }\n",
       "</style>\n",
       "<table border=\"1\" class=\"dataframe\">\n",
       "  <thead>\n",
       "    <tr style=\"text-align: right;\">\n",
       "      <th></th>\n",
       "      <th>Id_question</th>\n",
       "      <th>OwnerUserId_question</th>\n",
       "      <th>CreationDate_question</th>\n",
       "      <th>ClosedDate</th>\n",
       "      <th>Score_question</th>\n",
       "      <th>Title</th>\n",
       "      <th>Body_question</th>\n",
       "      <th>Id_answer</th>\n",
       "      <th>OwnerUserId_answer</th>\n",
       "      <th>CreationDate_answer</th>\n",
       "      <th>ParentId</th>\n",
       "      <th>Score_answer</th>\n",
       "      <th>Body_answer</th>\n",
       "    </tr>\n",
       "  </thead>\n",
       "  <tbody>\n",
       "    <tr>\n",
       "      <th>0</th>\n",
       "      <td>80</td>\n",
       "      <td>26.0</td>\n",
       "      <td>2008-08-01T13:57:07Z</td>\n",
       "      <td>NaN</td>\n",
       "      <td>26</td>\n",
       "      <td>SQLStatement.execute() - multiple queries in o...</td>\n",
       "      <td>&lt;p&gt;I've written a database generation script i...</td>\n",
       "      <td>124</td>\n",
       "      <td>26.0</td>\n",
       "      <td>2008-08-01T16:09:47Z</td>\n",
       "      <td>80</td>\n",
       "      <td>12</td>\n",
       "      <td>&lt;p&gt;I wound up using this. It is a kind of a ha...</td>\n",
       "    </tr>\n",
       "    <tr>\n",
       "      <th>1</th>\n",
       "      <td>80</td>\n",
       "      <td>26.0</td>\n",
       "      <td>2008-08-01T13:57:07Z</td>\n",
       "      <td>NaN</td>\n",
       "      <td>26</td>\n",
       "      <td>SQLStatement.execute() - multiple queries in o...</td>\n",
       "      <td>&lt;p&gt;I've written a database generation script i...</td>\n",
       "      <td>10008</td>\n",
       "      <td>1109.0</td>\n",
       "      <td>2008-08-13T16:09:09Z</td>\n",
       "      <td>80</td>\n",
       "      <td>6</td>\n",
       "      <td>&lt;p&gt;The &lt;a href=\"http://en.wikipedia.org/wiki/S...</td>\n",
       "    </tr>\n",
       "    <tr>\n",
       "      <th>2</th>\n",
       "      <td>80</td>\n",
       "      <td>26.0</td>\n",
       "      <td>2008-08-01T13:57:07Z</td>\n",
       "      <td>NaN</td>\n",
       "      <td>26</td>\n",
       "      <td>SQLStatement.execute() - multiple queries in o...</td>\n",
       "      <td>&lt;p&gt;I've written a database generation script i...</td>\n",
       "      <td>3770976</td>\n",
       "      <td>364174.0</td>\n",
       "      <td>2010-09-22T15:37:30Z</td>\n",
       "      <td>80</td>\n",
       "      <td>1</td>\n",
       "      <td>&lt;p&gt;What about making your delimiter something ...</td>\n",
       "    </tr>\n",
       "  </tbody>\n",
       "</table>\n",
       "</div>"
      ],
      "text/plain": [
       "   Id_question  OwnerUserId_question CreationDate_question ClosedDate  \\\n",
       "0           80                  26.0  2008-08-01T13:57:07Z        NaN   \n",
       "1           80                  26.0  2008-08-01T13:57:07Z        NaN   \n",
       "2           80                  26.0  2008-08-01T13:57:07Z        NaN   \n",
       "\n",
       "   Score_question                                              Title  \\\n",
       "0              26  SQLStatement.execute() - multiple queries in o...   \n",
       "1              26  SQLStatement.execute() - multiple queries in o...   \n",
       "2              26  SQLStatement.execute() - multiple queries in o...   \n",
       "\n",
       "                                       Body_question  Id_answer  \\\n",
       "0  <p>I've written a database generation script i...        124   \n",
       "1  <p>I've written a database generation script i...      10008   \n",
       "2  <p>I've written a database generation script i...    3770976   \n",
       "\n",
       "   OwnerUserId_answer   CreationDate_answer  ParentId  Score_answer  \\\n",
       "0                26.0  2008-08-01T16:09:47Z        80            12   \n",
       "1              1109.0  2008-08-13T16:09:09Z        80             6   \n",
       "2            364174.0  2010-09-22T15:37:30Z        80             1   \n",
       "\n",
       "                                         Body_answer  \n",
       "0  <p>I wound up using this. It is a kind of a ha...  \n",
       "1  <p>The <a href=\"http://en.wikipedia.org/wiki/S...  \n",
       "2  <p>What about making your delimiter something ...  "
      ]
     },
     "execution_count": 71,
     "metadata": {},
     "output_type": "execute_result"
    }
   ],
   "source": [
    "qna = ten_percent_questions.merge(ten_percent_answers, left_on=\"Id\", right_on=\"ParentId\", suffixes=(\"_question\", \"_answer\"))\n",
    "qna.head(3)"
   ]
  },
  {
   "cell_type": "code",
   "execution_count": null,
   "id": "b88fa308",
   "metadata": {},
   "outputs": [
    {
     "name": "stdout",
     "output_type": "stream",
     "text": [
      "<p>I've written a database generation script in <a href=\"http://en.wikipedia.org/wiki/SQL\">SQL</a> and want to execute it in my <a href=\"http://en.wikipedia.org/wiki/Adobe_Integrated_Runtime\">Adobe AIR</a> application:</p>\n",
      "\n",
      "<pre><code>Create Table tRole (\n",
      "      roleID integer Primary Key\n",
      "      ,roleName varchar(40)\n",
      ");\n",
      "Create Table tFile (\n",
      "    fileID integer Primary Key\n",
      "    ,fileName varchar(50)\n",
      "    ,fileDescription varchar(500)\n",
      "    ,thumbnailID integer\n",
      "    ,fileFormatID integer\n",
      "    ,categoryID integer\n",
      "    ,isFavorite boolean\n",
      "    ,dateAdded date\n",
      "    ,globalAccessCount integer\n",
      "    ,lastAccessTime date\n",
      "    ,downloadComplete boolean\n",
      "    ,isNew boolean\n",
      "    ,isSpotlight boolean\n",
      "    ,duration varchar(30)\n",
      ");\n",
      "Create Table tCategory (\n",
      "    categoryID integer Primary Key\n",
      "    ,categoryName varchar(50)\n",
      "    ,parent_categoryID integer\n",
      ");\n",
      "...\n",
      "</code></pre>\n",
      "\n",
      "<p>I execute this in Adobe AIR using the following methods:</p>\n",
      "\n",
      "<pre><code>public static function RunSqlFromFile(fileName:String):void {\n",
      "    var file:File = File.applicationDirectory.resolvePath(fileName);\n",
      "    var stream:FileStream = new FileStream();\n",
      "    stream.open(file, FileMode.READ)\n",
      "    var strSql:String = stream.readUTFBytes(stream.bytesAvailable);\n",
      "    NonQuery(strSql);\n",
      "}\n",
      "\n",
      "public static function NonQuery(strSQL:String):void\n",
      "{\n",
      "    var sqlConnection:SQLConnection = new SQLConnection();\n",
      "    sqlConnection.open(File.applicationStorageDirectory.resolvePath(DBPATH);\n",
      "    var sqlStatement:SQLStatement = new SQLStatement();\n",
      "    sqlStatement.text = strSQL;\n",
      "    sqlStatement.sqlConnection = sqlConnection;\n",
      "    try\n",
      "    {\n",
      "        sqlStatement.execute();\n",
      "    }\n",
      "    catch (error:SQLError)\n",
      "    {\n",
      "        Alert.show(error.toString());\n",
      "    }\n",
      "}\n",
      "</code></pre>\n",
      "\n",
      "<p>No errors are generated, however only <code>tRole</code> exists. It seems that it only looks at the first query (up to the semicolon- if I remove it, the query fails). Is there a way to call multiple queries in one statement?</p>\n",
      "\n"
     ]
    }
   ],
   "source": [
    "print(qna.iloc[0].Body_question)"
   ]
  },
  {
   "cell_type": "code",
   "execution_count": 70,
   "id": "94600355",
   "metadata": {},
   "outputs": [
    {
     "name": "stdout",
     "output_type": "stream",
     "text": [
      "<p>I wound up using this. It is a kind of a hack, but it actually works pretty well. The only thing is you have to be very careful with your semicolons. : D</p>\n",
      "\n",
      "<pre><code>var strSql:String = stream.readUTFBytes(stream.bytesAvailable);      \n",
      "var i:Number = 0;\n",
      "var strSqlSplit:Array = strSql.split(\";\");\n",
      "for (i = 0; i &lt; strSqlSplit.length; i++){\n",
      "    NonQuery(strSqlSplit[i].toString());\n",
      "}\n",
      "</code></pre>\n",
      "\n"
     ]
    }
   ],
   "source": [
    "print(qna.iloc[0].Body_answer)"
   ]
  },
  {
   "cell_type": "markdown",
   "id": "95b62610",
   "metadata": {},
   "source": [
    "We can ignore \\<pre\\> tags since we won't display the code itself  \n",
    "We can discuss how to use code snippets (if at all) or if we would prefer to just use generally guidance (i.e. normal sentences)  \n",
    "We may want to have some sort of reference to the content within \\<code\\> blocks to extend tag information for each topics"
   ]
  },
  {
   "cell_type": "markdown",
   "id": "38226f0b",
   "metadata": {},
   "source": [
    "**Applying Changes for Export**  "
   ]
  },
  {
   "cell_type": "code",
   "execution_count": 84,
   "id": "0f9dfd36",
   "metadata": {},
   "outputs": [],
   "source": [
    "ten_percent_tags = ten_percent_tags.groupby(\"Id\")[\"Tag\"].apply(list).to_frame()\n",
    "qna = ten_percent_questions.merge(ten_percent_answers, left_on=\"Id\", right_on=\"ParentId\", suffixes=(\"_question\", \"_answer\"))\n",
    "qna = qna.merge(ten_percent_tags, left_on=\"Id_question\", right_index=True)"
   ]
  },
  {
   "cell_type": "markdown",
   "id": "b62fdc99",
   "metadata": {},
   "source": [
    "We could consider combining all the answers for a single question to give a better overall answers, although there should be some indication of differentiation since different parts of the answer may be highlighted.  "
   ]
  },
  {
   "cell_type": "code",
   "execution_count": 86,
   "id": "833f19a5",
   "metadata": {},
   "outputs": [
    {
     "data": {
      "text/html": [
       "<div>\n",
       "<style scoped>\n",
       "    .dataframe tbody tr th:only-of-type {\n",
       "        vertical-align: middle;\n",
       "    }\n",
       "\n",
       "    .dataframe tbody tr th {\n",
       "        vertical-align: top;\n",
       "    }\n",
       "\n",
       "    .dataframe thead th {\n",
       "        text-align: right;\n",
       "    }\n",
       "</style>\n",
       "<table border=\"1\" class=\"dataframe\">\n",
       "  <thead>\n",
       "    <tr style=\"text-align: right;\">\n",
       "      <th></th>\n",
       "      <th>Id_question</th>\n",
       "      <th>OwnerUserId_question</th>\n",
       "      <th>CreationDate_question</th>\n",
       "      <th>ClosedDate</th>\n",
       "      <th>Score_question</th>\n",
       "      <th>Title</th>\n",
       "      <th>Body_question</th>\n",
       "      <th>Id_answer</th>\n",
       "      <th>OwnerUserId_answer</th>\n",
       "      <th>CreationDate_answer</th>\n",
       "      <th>ParentId</th>\n",
       "      <th>Score_answer</th>\n",
       "      <th>Body_answer</th>\n",
       "      <th>Tag</th>\n",
       "    </tr>\n",
       "  </thead>\n",
       "  <tbody>\n",
       "    <tr>\n",
       "      <th>0</th>\n",
       "      <td>80</td>\n",
       "      <td>26.0</td>\n",
       "      <td>2008-08-01T13:57:07Z</td>\n",
       "      <td>NaN</td>\n",
       "      <td>26</td>\n",
       "      <td>SQLStatement.execute() - multiple queries in o...</td>\n",
       "      <td>&lt;p&gt;I've written a database generation script i...</td>\n",
       "      <td>124</td>\n",
       "      <td>26.0</td>\n",
       "      <td>2008-08-01T16:09:47Z</td>\n",
       "      <td>80</td>\n",
       "      <td>12</td>\n",
       "      <td>&lt;p&gt;I wound up using this. It is a kind of a ha...</td>\n",
       "      <td>[flex, actionscript-3, air]</td>\n",
       "    </tr>\n",
       "    <tr>\n",
       "      <th>1</th>\n",
       "      <td>80</td>\n",
       "      <td>26.0</td>\n",
       "      <td>2008-08-01T13:57:07Z</td>\n",
       "      <td>NaN</td>\n",
       "      <td>26</td>\n",
       "      <td>SQLStatement.execute() - multiple queries in o...</td>\n",
       "      <td>&lt;p&gt;I've written a database generation script i...</td>\n",
       "      <td>10008</td>\n",
       "      <td>1109.0</td>\n",
       "      <td>2008-08-13T16:09:09Z</td>\n",
       "      <td>80</td>\n",
       "      <td>6</td>\n",
       "      <td>&lt;p&gt;The &lt;a href=\"http://en.wikipedia.org/wiki/S...</td>\n",
       "      <td>[flex, actionscript-3, air]</td>\n",
       "    </tr>\n",
       "    <tr>\n",
       "      <th>2</th>\n",
       "      <td>80</td>\n",
       "      <td>26.0</td>\n",
       "      <td>2008-08-01T13:57:07Z</td>\n",
       "      <td>NaN</td>\n",
       "      <td>26</td>\n",
       "      <td>SQLStatement.execute() - multiple queries in o...</td>\n",
       "      <td>&lt;p&gt;I've written a database generation script i...</td>\n",
       "      <td>3770976</td>\n",
       "      <td>364174.0</td>\n",
       "      <td>2010-09-22T15:37:30Z</td>\n",
       "      <td>80</td>\n",
       "      <td>1</td>\n",
       "      <td>&lt;p&gt;What about making your delimiter something ...</td>\n",
       "      <td>[flex, actionscript-3, air]</td>\n",
       "    </tr>\n",
       "  </tbody>\n",
       "</table>\n",
       "</div>"
      ],
      "text/plain": [
       "   Id_question  OwnerUserId_question CreationDate_question ClosedDate  \\\n",
       "0           80                  26.0  2008-08-01T13:57:07Z        NaN   \n",
       "1           80                  26.0  2008-08-01T13:57:07Z        NaN   \n",
       "2           80                  26.0  2008-08-01T13:57:07Z        NaN   \n",
       "\n",
       "   Score_question                                              Title  \\\n",
       "0              26  SQLStatement.execute() - multiple queries in o...   \n",
       "1              26  SQLStatement.execute() - multiple queries in o...   \n",
       "2              26  SQLStatement.execute() - multiple queries in o...   \n",
       "\n",
       "                                       Body_question  Id_answer  \\\n",
       "0  <p>I've written a database generation script i...        124   \n",
       "1  <p>I've written a database generation script i...      10008   \n",
       "2  <p>I've written a database generation script i...    3770976   \n",
       "\n",
       "   OwnerUserId_answer   CreationDate_answer  ParentId  Score_answer  \\\n",
       "0                26.0  2008-08-01T16:09:47Z        80            12   \n",
       "1              1109.0  2008-08-13T16:09:09Z        80             6   \n",
       "2            364174.0  2010-09-22T15:37:30Z        80             1   \n",
       "\n",
       "                                         Body_answer  \\\n",
       "0  <p>I wound up using this. It is a kind of a ha...   \n",
       "1  <p>The <a href=\"http://en.wikipedia.org/wiki/S...   \n",
       "2  <p>What about making your delimiter something ...   \n",
       "\n",
       "                           Tag  \n",
       "0  [flex, actionscript-3, air]  \n",
       "1  [flex, actionscript-3, air]  \n",
       "2  [flex, actionscript-3, air]  "
      ]
     },
     "execution_count": 86,
     "metadata": {},
     "output_type": "execute_result"
    }
   ],
   "source": [
    "qna.head(3)"
   ]
  },
  {
   "cell_type": "markdown",
   "id": "04a172a4",
   "metadata": {},
   "source": [
    "All written content seems to be in \\<p\\> tags."
   ]
  },
  {
   "cell_type": "code",
   "execution_count": 90,
   "id": "95a73076",
   "metadata": {},
   "outputs": [
    {
     "data": {
      "text/html": [
       "<div>\n",
       "<style scoped>\n",
       "    .dataframe tbody tr th:only-of-type {\n",
       "        vertical-align: middle;\n",
       "    }\n",
       "\n",
       "    .dataframe tbody tr th {\n",
       "        vertical-align: top;\n",
       "    }\n",
       "\n",
       "    .dataframe thead th {\n",
       "        text-align: right;\n",
       "    }\n",
       "</style>\n",
       "<table border=\"1\" class=\"dataframe\">\n",
       "  <thead>\n",
       "    <tr style=\"text-align: right;\">\n",
       "      <th></th>\n",
       "      <th>Id_question</th>\n",
       "      <th>OwnerUserId_question</th>\n",
       "      <th>CreationDate_question</th>\n",
       "      <th>ClosedDate</th>\n",
       "      <th>Score_question</th>\n",
       "      <th>Title</th>\n",
       "      <th>Body_question</th>\n",
       "      <th>Id_answer</th>\n",
       "      <th>OwnerUserId_answer</th>\n",
       "      <th>CreationDate_answer</th>\n",
       "      <th>ParentId</th>\n",
       "      <th>Score_answer</th>\n",
       "      <th>Body_answer</th>\n",
       "      <th>Tag</th>\n",
       "      <th>answer_text_content</th>\n",
       "      <th>question_text_content</th>\n",
       "    </tr>\n",
       "  </thead>\n",
       "  <tbody>\n",
       "    <tr>\n",
       "      <th>0</th>\n",
       "      <td>80</td>\n",
       "      <td>26.0</td>\n",
       "      <td>2008-08-01T13:57:07Z</td>\n",
       "      <td>NaN</td>\n",
       "      <td>26</td>\n",
       "      <td>SQLStatement.execute() - multiple queries in o...</td>\n",
       "      <td>&lt;p&gt;I've written a database generation script i...</td>\n",
       "      <td>124</td>\n",
       "      <td>26.0</td>\n",
       "      <td>2008-08-01T16:09:47Z</td>\n",
       "      <td>80</td>\n",
       "      <td>12</td>\n",
       "      <td>&lt;p&gt;I wound up using this. It is a kind of a ha...</td>\n",
       "      <td>[flex, actionscript-3, air]</td>\n",
       "      <td>[I wound up using this. It is a kind of a hack...</td>\n",
       "      <td>[I've written a database generation script in ...</td>\n",
       "    </tr>\n",
       "    <tr>\n",
       "      <th>1</th>\n",
       "      <td>80</td>\n",
       "      <td>26.0</td>\n",
       "      <td>2008-08-01T13:57:07Z</td>\n",
       "      <td>NaN</td>\n",
       "      <td>26</td>\n",
       "      <td>SQLStatement.execute() - multiple queries in o...</td>\n",
       "      <td>&lt;p&gt;I've written a database generation script i...</td>\n",
       "      <td>10008</td>\n",
       "      <td>1109.0</td>\n",
       "      <td>2008-08-13T16:09:09Z</td>\n",
       "      <td>80</td>\n",
       "      <td>6</td>\n",
       "      <td>&lt;p&gt;The &lt;a href=\"http://en.wikipedia.org/wiki/S...</td>\n",
       "      <td>[flex, actionscript-3, air]</td>\n",
       "      <td>[The &lt;a href=\"http://en.wikipedia.org/wiki/SQL...</td>\n",
       "      <td>[I've written a database generation script in ...</td>\n",
       "    </tr>\n",
       "    <tr>\n",
       "      <th>2</th>\n",
       "      <td>80</td>\n",
       "      <td>26.0</td>\n",
       "      <td>2008-08-01T13:57:07Z</td>\n",
       "      <td>NaN</td>\n",
       "      <td>26</td>\n",
       "      <td>SQLStatement.execute() - multiple queries in o...</td>\n",
       "      <td>&lt;p&gt;I've written a database generation script i...</td>\n",
       "      <td>3770976</td>\n",
       "      <td>364174.0</td>\n",
       "      <td>2010-09-22T15:37:30Z</td>\n",
       "      <td>80</td>\n",
       "      <td>1</td>\n",
       "      <td>&lt;p&gt;What about making your delimiter something ...</td>\n",
       "      <td>[flex, actionscript-3, air]</td>\n",
       "      <td>[What about making your delimiter something a ...</td>\n",
       "      <td>[I've written a database generation script in ...</td>\n",
       "    </tr>\n",
       "  </tbody>\n",
       "</table>\n",
       "</div>"
      ],
      "text/plain": [
       "   Id_question  OwnerUserId_question CreationDate_question ClosedDate  \\\n",
       "0           80                  26.0  2008-08-01T13:57:07Z        NaN   \n",
       "1           80                  26.0  2008-08-01T13:57:07Z        NaN   \n",
       "2           80                  26.0  2008-08-01T13:57:07Z        NaN   \n",
       "\n",
       "   Score_question                                              Title  \\\n",
       "0              26  SQLStatement.execute() - multiple queries in o...   \n",
       "1              26  SQLStatement.execute() - multiple queries in o...   \n",
       "2              26  SQLStatement.execute() - multiple queries in o...   \n",
       "\n",
       "                                       Body_question  Id_answer  \\\n",
       "0  <p>I've written a database generation script i...        124   \n",
       "1  <p>I've written a database generation script i...      10008   \n",
       "2  <p>I've written a database generation script i...    3770976   \n",
       "\n",
       "   OwnerUserId_answer   CreationDate_answer  ParentId  Score_answer  \\\n",
       "0                26.0  2008-08-01T16:09:47Z        80            12   \n",
       "1              1109.0  2008-08-13T16:09:09Z        80             6   \n",
       "2            364174.0  2010-09-22T15:37:30Z        80             1   \n",
       "\n",
       "                                         Body_answer  \\\n",
       "0  <p>I wound up using this. It is a kind of a ha...   \n",
       "1  <p>The <a href=\"http://en.wikipedia.org/wiki/S...   \n",
       "2  <p>What about making your delimiter something ...   \n",
       "\n",
       "                           Tag  \\\n",
       "0  [flex, actionscript-3, air]   \n",
       "1  [flex, actionscript-3, air]   \n",
       "2  [flex, actionscript-3, air]   \n",
       "\n",
       "                                 answer_text_content  \\\n",
       "0  [I wound up using this. It is a kind of a hack...   \n",
       "1  [The <a href=\"http://en.wikipedia.org/wiki/SQL...   \n",
       "2  [What about making your delimiter something a ...   \n",
       "\n",
       "                               question_text_content  \n",
       "0  [I've written a database generation script in ...  \n",
       "1  [I've written a database generation script in ...  \n",
       "2  [I've written a database generation script in ...  "
      ]
     },
     "execution_count": 90,
     "metadata": {},
     "output_type": "execute_result"
    }
   ],
   "source": [
    "qna = qna.assign(question_text_content = qna[\"Body_question\"].str.findall(r\"<p>(.*?)</p>\"))\n",
    "qna = qna.assign(answer_text_content = qna[\"Body_answer\"].str.findall(r\"<p>(.*?)</p>\"))\n",
    "qna.head(3)"
   ]
  },
  {
   "cell_type": "markdown",
   "id": "380532b0",
   "metadata": {},
   "source": [
    "From here we still need to deal with nested elements (e.g. links, styling, or any other nested tags).  \n",
    "We may want to include the domain name in links as a reference, but not train predictions on the domain name itself.  \n",
    "  \n",
    "Something else to consider is how to deal with placeholders (e.g. SQLStatement.execute() in the titles above). These maybe shouldn't be in the training corpus because they are mostly arbitrary, but also we could potentially teach the model to understand arbitrary items to sometimes be placeholders.\n",
    "  \n",
    "We can definitely preprocess the text a fair amount, I just want to be careful that the capitalization, for instance, isn't important (e.g. in class definitions).  \n",
    "  \n",
    "Since time stamps are available, we could use the response time as a measure of answer confidence (although this might be troublesome as old posts could be updated to reflect version changes)."
   ]
  },
  {
   "cell_type": "code",
   "execution_count": 91,
   "id": "6bc6361c",
   "metadata": {},
   "outputs": [
    {
     "data": {
      "text/plain": [
       "Id_question                    0\n",
       "OwnerUserId_question       31893\n",
       "CreationDate_question          0\n",
       "ClosedDate               1915448\n",
       "Score_question                 0\n",
       "Title                          0\n",
       "Body_question                  0\n",
       "Id_answer                      0\n",
       "OwnerUserId_answer         13200\n",
       "CreationDate_answer            0\n",
       "ParentId                       0\n",
       "Score_answer                   0\n",
       "Body_answer                    0\n",
       "Tag                            0\n",
       "answer_text_content            0\n",
       "question_text_content          0\n",
       "dtype: int64"
      ]
     },
     "execution_count": 91,
     "metadata": {},
     "output_type": "execute_result"
    }
   ],
   "source": [
    "qna.isna().sum()"
   ]
  },
  {
   "cell_type": "markdown",
   "id": "47ce9bcf",
   "metadata": {},
   "source": [
    "The missing values seem to be with Ids and not text so it may well be that we can ignore these missing values.  \n",
    "We can definitely ignore closed date values (maybe we binarize this since it says whether a post is closed or not)."
   ]
  },
  {
   "cell_type": "code",
   "execution_count": null,
   "id": "2d285682",
   "metadata": {},
   "outputs": [],
   "source": [
    "# qna.to_csv(\"./datasets/kaggle-stackoverflow-10-percent/combined_ten_percent_qna.csv\")"
   ]
  }
 ],
 "metadata": {
  "kernelspec": {
   "display_name": "cse158",
   "language": "python",
   "name": "python3"
  },
  "language_info": {
   "codemirror_mode": {
    "name": "ipython",
    "version": 3
   },
   "file_extension": ".py",
   "mimetype": "text/x-python",
   "name": "python",
   "nbconvert_exporter": "python",
   "pygments_lexer": "ipython3",
   "version": "3.13.7"
  }
 },
 "nbformat": 4,
 "nbformat_minor": 5
}
